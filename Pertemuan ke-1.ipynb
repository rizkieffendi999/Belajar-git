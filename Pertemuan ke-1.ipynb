{
 "cells": [
  {
   "cell_type": "markdown",
   "metadata": {},
   "source": [
    "# First Program"
   ]
  },
  {
   "cell_type": "markdown",
   "metadata": {},
   "source": [
    "## Second Program"
   ]
  },
  {
   "cell_type": "markdown",
   "metadata": {},
   "source": [
    "### Third Program"
   ]
  },
  {
   "cell_type": "markdown",
   "metadata": {},
   "source": [
    "#### Fourth Program"
   ]
  },
  {
   "cell_type": "code",
   "execution_count": 1,
   "metadata": {},
   "outputs": [],
   "source": [
    "# contoh comment"
   ]
  },
  {
   "cell_type": "code",
   "execution_count": 2,
   "metadata": {},
   "outputs": [
    {
     "name": "stdout",
     "output_type": "stream",
     "text": [
      "hello word\n"
     ]
    }
   ],
   "source": [
    "print('hello word')"
   ]
  },
  {
   "cell_type": "code",
   "execution_count": 3,
   "metadata": {},
   "outputs": [
    {
     "name": "stdout",
     "output_type": "stream",
     "text": [
      "Kelas basic pyhton batch 13\n"
     ]
    }
   ],
   "source": [
    "print('Kelas basic pyhton batch 13')"
   ]
  },
  {
   "cell_type": "markdown",
   "metadata": {},
   "source": [
    "Contoh markdown"
   ]
  },
  {
   "cell_type": "code",
   "execution_count": 4,
   "metadata": {},
   "outputs": [
    {
     "name": "stdout",
     "output_type": "stream",
     "text": [
      "Selamat siang\n"
     ]
    }
   ],
   "source": [
    "salam = 'Selamat siang'\n",
    "print(salam)"
   ]
  },
  {
   "cell_type": "code",
   "execution_count": 5,
   "metadata": {},
   "outputs": [
    {
     "name": "stdout",
     "output_type": "stream",
     "text": [
      "Budi 123 Dadang\n"
     ]
    }
   ],
   "source": [
    "print('Budi', 123, 'Dadang')"
   ]
  },
  {
   "cell_type": "code",
   "execution_count": 7,
   "metadata": {},
   "outputs": [
    {
     "name": "stdout",
     "output_type": "stream",
     "text": [
      "100\n"
     ]
    }
   ],
   "source": [
    "integer = 100\n",
    "print(integer)"
   ]
  },
  {
   "cell_type": "code",
   "execution_count": 8,
   "metadata": {},
   "outputs": [
    {
     "data": {
      "text/plain": [
       "'Selamat siang'"
      ]
     },
     "execution_count": 8,
     "metadata": {},
     "output_type": "execute_result"
    }
   ],
   "source": [
    "salam"
   ]
  },
  {
   "cell_type": "code",
   "execution_count": 9,
   "metadata": {},
   "outputs": [
    {
     "name": "stdout",
     "output_type": "stream",
     "text": [
      "3.6\n"
     ]
    }
   ],
   "source": [
    "desimal = 3.6\n",
    "print (desimal)"
   ]
  },
  {
   "cell_type": "code",
   "execution_count": 10,
   "metadata": {},
   "outputs": [
    {
     "name": "stdout",
     "output_type": "stream",
     "text": [
      "(1+3j)\n"
     ]
    }
   ],
   "source": [
    "comp = 1 + 3j\n",
    "print(comp)"
   ]
  },
  {
   "cell_type": "code",
   "execution_count": 11,
   "metadata": {},
   "outputs": [],
   "source": [
    "# melihat tipe data"
   ]
  },
  {
   "cell_type": "code",
   "execution_count": 12,
   "metadata": {},
   "outputs": [
    {
     "data": {
      "text/plain": [
       "complex"
      ]
     },
     "execution_count": 12,
     "metadata": {},
     "output_type": "execute_result"
    }
   ],
   "source": [
    "type (comp)"
   ]
  },
  {
   "cell_type": "code",
   "execution_count": 13,
   "metadata": {},
   "outputs": [
    {
     "data": {
      "text/plain": [
       "str"
      ]
     },
     "execution_count": 13,
     "metadata": {},
     "output_type": "execute_result"
    }
   ],
   "source": [
    "type(salam)"
   ]
  },
  {
   "cell_type": "code",
   "execution_count": 14,
   "metadata": {},
   "outputs": [
    {
     "data": {
      "text/plain": [
       "int"
      ]
     },
     "execution_count": 14,
     "metadata": {},
     "output_type": "execute_result"
    }
   ],
   "source": [
    "type(integer)"
   ]
  },
  {
   "cell_type": "code",
   "execution_count": 15,
   "metadata": {},
   "outputs": [
    {
     "data": {
      "text/plain": [
       "float"
      ]
     },
     "execution_count": 15,
     "metadata": {},
     "output_type": "execute_result"
    }
   ],
   "source": [
    "type(desimal)"
   ]
  },
  {
   "cell_type": "code",
   "execution_count": 16,
   "metadata": {},
   "outputs": [
    {
     "name": "stdout",
     "output_type": "stream",
     "text": [
      "Basic Python batch 13\n",
      "<class 'str'>\n"
     ]
    }
   ],
   "source": [
    "string = 'Basic Python batch 13'\n",
    "print (string)\n",
    "print(type(string))"
   ]
  },
  {
   "cell_type": "code",
   "execution_count": 17,
   "metadata": {},
   "outputs": [],
   "source": [
    "# operasi matematika"
   ]
  },
  {
   "cell_type": "code",
   "execution_count": 18,
   "metadata": {},
   "outputs": [
    {
     "data": {
      "text/plain": [
       "30"
      ]
     },
     "execution_count": 18,
     "metadata": {},
     "output_type": "execute_result"
    }
   ],
   "source": [
    "50-20"
   ]
  },
  {
   "cell_type": "code",
   "execution_count": 19,
   "metadata": {},
   "outputs": [
    {
     "name": "stdout",
     "output_type": "stream",
     "text": [
      "20\n"
     ]
    }
   ],
   "source": [
    "a = 10\n",
    "b = 2\n",
    "kali = a*b\n",
    "print(kali)"
   ]
  },
  {
   "cell_type": "code",
   "execution_count": 20,
   "metadata": {},
   "outputs": [
    {
     "data": {
      "text/plain": [
       "20"
      ]
     },
     "execution_count": 20,
     "metadata": {},
     "output_type": "execute_result"
    }
   ],
   "source": [
    "kali"
   ]
  },
  {
   "cell_type": "code",
   "execution_count": 21,
   "metadata": {},
   "outputs": [
    {
     "data": {
      "text/plain": [
       "20"
      ]
     },
     "execution_count": 21,
     "metadata": {},
     "output_type": "execute_result"
    }
   ],
   "source": [
    "10*2"
   ]
  },
  {
   "cell_type": "code",
   "execution_count": 22,
   "metadata": {},
   "outputs": [
    {
     "name": "stdout",
     "output_type": "stream",
     "text": [
      "5.0\n",
      "<class 'float'>\n"
     ]
    }
   ],
   "source": [
    "a = 10\n",
    "b = 2\n",
    "bagi = a/b\n",
    "print(bagi)\n",
    "print(type(bagi))"
   ]
  },
  {
   "cell_type": "code",
   "execution_count": 23,
   "metadata": {},
   "outputs": [
    {
     "name": "stdout",
     "output_type": "stream",
     "text": [
      "3.3333333333333335\n",
      "<class 'float'>\n"
     ]
    }
   ],
   "source": [
    "a = 10\n",
    "b = 3\n",
    "bagi2 = a/b\n",
    "print(bagi2)\n",
    "print(type(bagi2))"
   ]
  },
  {
   "cell_type": "code",
   "execution_count": 24,
   "metadata": {},
   "outputs": [
    {
     "name": "stdout",
     "output_type": "stream",
     "text": [
      "5\n",
      "<class 'int'>\n"
     ]
    }
   ],
   "source": [
    "a = 10\n",
    "b = 2\n",
    "bagi3 = a//b\n",
    "print(bagi3)\n",
    "print(type(bagi3))"
   ]
  },
  {
   "cell_type": "code",
   "execution_count": 25,
   "metadata": {},
   "outputs": [
    {
     "name": "stdout",
     "output_type": "stream",
     "text": [
      "3\n",
      "<class 'int'>\n"
     ]
    }
   ],
   "source": [
    "a = 10\n",
    "b = 3\n",
    "bagi4 = a//b\n",
    "print(bagi4)\n",
    "print(type(bagi4))"
   ]
  },
  {
   "cell_type": "code",
   "execution_count": 26,
   "metadata": {},
   "outputs": [
    {
     "name": "stdout",
     "output_type": "stream",
     "text": [
      "2\n"
     ]
    }
   ],
   "source": [
    "c = 17\n",
    "d = 3\n",
    "md = c%d\n",
    "print(md)"
   ]
  },
  {
   "cell_type": "code",
   "execution_count": 27,
   "metadata": {},
   "outputs": [
    {
     "name": "stdout",
     "output_type": "stream",
     "text": [
      "0\n"
     ]
    }
   ],
   "source": [
    "e = 15\n",
    "f = 3\n",
    "ms = e%f\n",
    "print(ms)"
   ]
  },
  {
   "cell_type": "code",
   "execution_count": 28,
   "metadata": {},
   "outputs": [],
   "source": [
    "# casting"
   ]
  },
  {
   "cell_type": "code",
   "execution_count": 29,
   "metadata": {},
   "outputs": [
    {
     "name": "stdout",
     "output_type": "stream",
     "text": [
      "3.6\n",
      "<class 'str'>\n"
     ]
    }
   ],
   "source": [
    "x = str(desimal)\n",
    "print(x)\n",
    "print(type(x))"
   ]
  },
  {
   "cell_type": "code",
   "execution_count": 30,
   "metadata": {},
   "outputs": [
    {
     "name": "stdout",
     "output_type": "stream",
     "text": [
      "100.0\n",
      "<class 'float'>\n"
     ]
    }
   ],
   "source": [
    "y = float(integer)\n",
    "print(y)\n",
    "print(type(y))"
   ]
  },
  {
   "cell_type": "code",
   "execution_count": 31,
   "metadata": {},
   "outputs": [
    {
     "name": "stdout",
     "output_type": "stream",
     "text": [
      "5\n",
      "<class 'int'>\n"
     ]
    }
   ],
   "source": [
    "s = int('5')\n",
    "print(s)\n",
    "print(type(s))"
   ]
  },
  {
   "cell_type": "code",
   "execution_count": 32,
   "metadata": {},
   "outputs": [
    {
     "ename": "ValueError",
     "evalue": "invalid literal for int() with base 10: '5.2'",
     "output_type": "error",
     "traceback": [
      "\u001b[1;31m---------------------------------------------------------------------------\u001b[0m",
      "\u001b[1;31mValueError\u001b[0m                                Traceback (most recent call last)",
      "\u001b[1;32m<ipython-input-32-3f15cda837a0>\u001b[0m in \u001b[0;36m<module>\u001b[1;34m\u001b[0m\n\u001b[1;32m----> 1\u001b[1;33m \u001b[0mk\u001b[0m \u001b[1;33m=\u001b[0m \u001b[0mint\u001b[0m\u001b[1;33m(\u001b[0m\u001b[1;34m'5.2'\u001b[0m\u001b[1;33m)\u001b[0m\u001b[1;33m\u001b[0m\u001b[1;33m\u001b[0m\u001b[0m\n\u001b[0m\u001b[0;32m      2\u001b[0m \u001b[0mprint\u001b[0m\u001b[1;33m(\u001b[0m\u001b[0mk\u001b[0m\u001b[1;33m)\u001b[0m\u001b[1;33m\u001b[0m\u001b[1;33m\u001b[0m\u001b[0m\n\u001b[0;32m      3\u001b[0m \u001b[0mprint\u001b[0m\u001b[1;33m(\u001b[0m\u001b[0mtype\u001b[0m\u001b[1;33m(\u001b[0m\u001b[0mk\u001b[0m\u001b[1;33m)\u001b[0m\u001b[1;33m)\u001b[0m\u001b[1;33m\u001b[0m\u001b[1;33m\u001b[0m\u001b[0m\n",
      "\u001b[1;31mValueError\u001b[0m: invalid literal for int() with base 10: '5.2'"
     ]
    }
   ],
   "source": [
    "k = int('5.2')\n",
    "print(k)\n",
    "print(type(k))"
   ]
  },
  {
   "cell_type": "code",
   "execution_count": 33,
   "metadata": {},
   "outputs": [
    {
     "ename": "ValueError",
     "evalue": "invalid literal for int() with base 10: 'eksperimen'",
     "output_type": "error",
     "traceback": [
      "\u001b[1;31m---------------------------------------------------------------------------\u001b[0m",
      "\u001b[1;31mValueError\u001b[0m                                Traceback (most recent call last)",
      "\u001b[1;32m<ipython-input-33-eed1e7fc9c76>\u001b[0m in \u001b[0;36m<module>\u001b[1;34m\u001b[0m\n\u001b[1;32m----> 1\u001b[1;33m \u001b[0mp\u001b[0m \u001b[1;33m=\u001b[0m \u001b[0mint\u001b[0m\u001b[1;33m(\u001b[0m\u001b[1;34m'eksperimen'\u001b[0m\u001b[1;33m)\u001b[0m\u001b[1;33m\u001b[0m\u001b[1;33m\u001b[0m\u001b[0m\n\u001b[0m\u001b[0;32m      2\u001b[0m \u001b[0mprint\u001b[0m\u001b[1;33m(\u001b[0m\u001b[0mp\u001b[0m\u001b[1;33m)\u001b[0m\u001b[1;33m\u001b[0m\u001b[1;33m\u001b[0m\u001b[0m\n\u001b[0;32m      3\u001b[0m \u001b[0mprint\u001b[0m\u001b[1;33m(\u001b[0m\u001b[0mtype\u001b[0m\u001b[1;33m(\u001b[0m\u001b[0mp\u001b[0m\u001b[1;33m)\u001b[0m\u001b[1;33m)\u001b[0m\u001b[1;33m\u001b[0m\u001b[1;33m\u001b[0m\u001b[0m\n",
      "\u001b[1;31mValueError\u001b[0m: invalid literal for int() with base 10: 'eksperimen'"
     ]
    }
   ],
   "source": [
    "p = int('eksperimen')\n",
    "print(p)\n",
    "print(type(p))"
   ]
  },
  {
   "cell_type": "markdown",
   "metadata": {},
   "source": [
    "Kesimpulan: Semua data integer bisa dikonversi ke string namun tidak semua data string bisa dikonversi ke integer"
   ]
  },
  {
   "cell_type": "code",
   "execution_count": 34,
   "metadata": {},
   "outputs": [
    {
     "ename": "SyntaxError",
     "evalue": "unexpected EOF while parsing (<ipython-input-34-b3fae8c7d5a8>, line 3)",
     "output_type": "error",
     "traceback": [
      "\u001b[1;36m  File \u001b[1;32m\"<ipython-input-34-b3fae8c7d5a8>\"\u001b[1;36m, line \u001b[1;32m3\u001b[0m\n\u001b[1;33m    print(type(j)\u001b[0m\n\u001b[1;37m                 ^\u001b[0m\n\u001b[1;31mSyntaxError\u001b[0m\u001b[1;31m:\u001b[0m unexpected EOF while parsing\n"
     ]
    }
   ],
   "source": [
    "j = int('5.2')\n",
    "print(j)\n",
    "print(type(j)"
   ]
  },
  {
   "cell_type": "code",
   "execution_count": 35,
   "metadata": {},
   "outputs": [
    {
     "name": "stdout",
     "output_type": "stream",
     "text": [
      "1750\n",
      "<class 'str'>\n"
     ]
    }
   ],
   "source": [
    "t = str(1750)\n",
    "print(t)\n",
    "print(type(t))"
   ]
  },
  {
   "cell_type": "code",
   "execution_count": null,
   "metadata": {},
   "outputs": [
    {
     "name": "stdout",
     "output_type": "stream",
     "text": [
      "\n",
      "Welcome to Python 3.8's help utility!\n",
      "\n",
      "If this is your first time using Python, you should definitely check out\n",
      "the tutorial on the Internet at https://docs.python.org/3.8/tutorial/.\n",
      "\n",
      "Enter the name of any module, keyword, or topic to get help on writing\n",
      "Python programs and using Python modules.  To quit this help utility and\n",
      "return to the interpreter, just type \"quit\".\n",
      "\n",
      "To get a list of available modules, keywords, symbols, or topics, type\n",
      "\"modules\", \"keywords\", \"symbols\", or \"topics\".  Each module also comes\n",
      "with a one-line summary of what it does; to list the modules whose name\n",
      "or summary contain a given string such as \"spam\", type \"modules spam\".\n",
      "\n"
     ]
    },
    {
     "name": "stdin",
     "output_type": "stream",
     "text": [
      "help>  symbol\n"
     ]
    },
    {
     "name": "stdout",
     "output_type": "stream",
     "text": [
      "Help on module symbol:\n",
      "\n",
      "NAME\n",
      "    symbol - Non-terminal symbols of Python grammar (from \"graminit.h\").\n",
      "\n",
      "MODULE REFERENCE\n",
      "    https://docs.python.org/3.8/library/symbol\n",
      "    \n",
      "    The following documentation is automatically generated from the Python\n",
      "    source files.  It may be incomplete, incorrect or include features that\n",
      "    are considered implementation detail and may vary between Python\n",
      "    implementations.  When in doubt, consult the module reference at the\n",
      "    location listed above.\n",
      "\n",
      "DATA\n",
      "    and_expr = 318\n",
      "    and_test = 311\n",
      "    annassign = 273\n",
      "    arglist = 335\n",
      "    argument = 336\n",
      "    arith_expr = 320\n",
      "    assert_stmt = 294\n",
      "    async_funcdef = 262\n",
      "    async_stmt = 296\n",
      "    atom = 325\n",
      "    atom_expr = 324\n",
      "    augassign = 275\n",
      "    break_stmt = 279\n",
      "    classdef = 334\n",
      "    comp_for = 339\n",
      "    comp_if = 340\n",
      "    comp_iter = 337\n",
      "    comp_op = 314\n",
      "    comparison = 313\n",
      "    compound_stmt = 295\n",
      "    continue_stmt = 280\n",
      "    decorated = 261\n",
      "    decorator = 259\n",
      "    decorators = 260\n",
      "    del_stmt = 276\n",
      "    dictorsetmaker = 333\n",
      "    dotted_as_name = 288\n",
      "    dotted_as_names = 290\n",
      "    dotted_name = 291\n",
      "    encoding_decl = 341\n",
      "    eval_input = 258\n",
      "    except_clause = 303\n",
      "    expr = 316\n",
      "    expr_stmt = 272\n",
      "    exprlist = 331\n",
      "    factor = 322\n",
      "    file_input = 257\n",
      "    flow_stmt = 278\n",
      "    for_stmt = 299\n",
      "    func_body_suite = 344\n",
      "    func_type = 346\n",
      "    func_type_input = 345\n",
      "    funcdef = 263\n",
      "    global_stmt = 292\n",
      "    if_stmt = 297\n",
      "    import_as_name = 287\n",
      "    import_as_names = 289\n",
      "    import_from = 286\n",
      "    import_name = 285\n",
      "    import_stmt = 284\n",
      "    lambdef = 308\n",
      "    lambdef_nocond = 309\n",
      "    namedexpr_test = 305\n",
      "    nonlocal_stmt = 293\n",
      "    not_test = 312\n",
      "    or_test = 310\n",
      "    parameters = 264\n",
      "    pass_stmt = 277\n",
      "    power = 323\n",
      "    raise_stmt = 283\n",
      "    return_stmt = 281\n",
      "    shift_expr = 319\n",
      "    simple_stmt = 270\n",
      "    single_input = 256\n",
      "    sliceop = 330\n",
      "    small_stmt = 271\n",
      "    star_expr = 315\n",
      "    stmt = 269\n",
      "    subscript = 329\n",
      "    subscriptlist = 328\n",
      "    suite = 304\n",
      "    sym_name = {256: 'single_input', 257: 'file_input', 258: 'eval_input',...\n",
      "    sync_comp_for = 338\n",
      "    term = 321\n",
      "    test = 306\n",
      "    test_nocond = 307\n",
      "    testlist = 332\n",
      "    testlist_comp = 326\n",
      "    testlist_star_expr = 274\n",
      "    tfpdef = 266\n",
      "    trailer = 327\n",
      "    try_stmt = 300\n",
      "    typedargslist = 265\n",
      "    typelist = 347\n",
      "    varargslist = 267\n",
      "    vfpdef = 268\n",
      "    while_stmt = 298\n",
      "    with_item = 302\n",
      "    with_stmt = 301\n",
      "    xor_expr = 317\n",
      "    yield_arg = 343\n",
      "    yield_expr = 342\n",
      "    yield_stmt = 282\n",
      "\n",
      "FILE\n",
      "    c:\\users\\melly\\miniconda3\\lib\\symbol.py\n",
      "\n",
      "\n"
     ]
    },
    {
     "name": "stdin",
     "output_type": "stream",
     "text": [
      "help>  %\n"
     ]
    },
    {
     "name": "stdout",
     "output_type": "stream",
     "text": [
      "Operator precedence\n",
      "*******************\n",
      "\n",
      "The following table summarizes the operator precedence in Python, from\n",
      "lowest precedence (least binding) to highest precedence (most\n",
      "binding).  Operators in the same box have the same precedence.  Unless\n",
      "the syntax is explicitly given, operators are binary.  Operators in\n",
      "the same box group left to right (except for exponentiation, which\n",
      "groups from right to left).\n",
      "\n",
      "Note that comparisons, membership tests, and identity tests, all have\n",
      "the same precedence and have a left-to-right chaining feature as\n",
      "described in the Comparisons section.\n",
      "\n",
      "+-------------------------------------------------+---------------------------------------+\n",
      "| Operator                                        | Description                           |\n",
      "|=================================================|=======================================|\n",
      "| \":=\"                                            | Assignment expression                 |\n",
      "+-------------------------------------------------+---------------------------------------+\n",
      "| \"lambda\"                                        | Lambda expression                     |\n",
      "+-------------------------------------------------+---------------------------------------+\n",
      "| \"if\" – \"else\"                                   | Conditional expression                |\n",
      "+-------------------------------------------------+---------------------------------------+\n",
      "| \"or\"                                            | Boolean OR                            |\n",
      "+-------------------------------------------------+---------------------------------------+\n",
      "| \"and\"                                           | Boolean AND                           |\n",
      "+-------------------------------------------------+---------------------------------------+\n",
      "| \"not\" \"x\"                                       | Boolean NOT                           |\n",
      "+-------------------------------------------------+---------------------------------------+\n",
      "| \"in\", \"not in\", \"is\", \"is not\", \"<\", \"<=\", \">\", | Comparisons, including membership     |\n",
      "| \">=\", \"!=\", \"==\"                                | tests and identity tests              |\n",
      "+-------------------------------------------------+---------------------------------------+\n",
      "| \"|\"                                             | Bitwise OR                            |\n",
      "+-------------------------------------------------+---------------------------------------+\n",
      "| \"^\"                                             | Bitwise XOR                           |\n",
      "+-------------------------------------------------+---------------------------------------+\n",
      "| \"&\"                                             | Bitwise AND                           |\n",
      "+-------------------------------------------------+---------------------------------------+\n",
      "| \"<<\", \">>\"                                      | Shifts                                |\n",
      "+-------------------------------------------------+---------------------------------------+\n",
      "| \"+\", \"-\"                                        | Addition and subtraction              |\n",
      "+-------------------------------------------------+---------------------------------------+\n",
      "| \"*\", \"@\", \"/\", \"//\", \"%\"                        | Multiplication, matrix                |\n",
      "|                                                 | multiplication, division, floor       |\n",
      "|                                                 | division, remainder [5]               |\n",
      "+-------------------------------------------------+---------------------------------------+\n",
      "| \"+x\", \"-x\", \"~x\"                                | Positive, negative, bitwise NOT       |\n",
      "+-------------------------------------------------+---------------------------------------+\n",
      "| \"**\"                                            | Exponentiation [6]                    |\n",
      "+-------------------------------------------------+---------------------------------------+\n",
      "| \"await\" \"x\"                                     | Await expression                      |\n",
      "+-------------------------------------------------+---------------------------------------+\n",
      "| \"x[index]\", \"x[index:index]\",                   | Subscription, slicing, call,          |\n",
      "| \"x(arguments...)\", \"x.attribute\"                | attribute reference                   |\n",
      "+-------------------------------------------------+---------------------------------------+\n",
      "| \"(expressions...)\",  \"[expressions...]\", \"{key: | Binding or parenthesized expression,  |\n",
      "| value...}\", \"{expressions...}\"                  | list display, dictionary display, set |\n",
      "|                                                 | display                               |\n",
      "+-------------------------------------------------+---------------------------------------+\n",
      "\n",
      "-[ Footnotes ]-\n",
      "\n",
      "[1] While \"abs(x%y) < abs(y)\" is true mathematically, for floats\n",
      "    it may not be true numerically due to roundoff.  For example, and\n",
      "    assuming a platform on which a Python float is an IEEE 754 double-\n",
      "    precision number, in order that \"-1e-100 % 1e100\" have the same\n",
      "    sign as \"1e100\", the computed result is \"-1e-100 + 1e100\", which\n",
      "    is numerically exactly equal to \"1e100\".  The function\n",
      "    \"math.fmod()\" returns a result whose sign matches the sign of the\n",
      "    first argument instead, and so returns \"-1e-100\" in this case.\n",
      "    Which approach is more appropriate depends on the application.\n",
      "\n",
      "[2] If x is very close to an exact integer multiple of y, it’s\n",
      "    possible for \"x//y\" to be one larger than \"(x-x%y)//y\" due to\n",
      "    rounding.  In such cases, Python returns the latter result, in\n",
      "    order to preserve that \"divmod(x,y)[0] * y + x % y\" be very close\n",
      "    to \"x\".\n",
      "\n",
      "[3] The Unicode standard distinguishes between *code points* (e.g.\n",
      "    U+0041) and *abstract characters* (e.g. “LATIN CAPITAL LETTER A”).\n",
      "    While most abstract characters in Unicode are only represented\n",
      "    using one code point, there is a number of abstract characters\n",
      "    that can in addition be represented using a sequence of more than\n",
      "    one code point.  For example, the abstract character “LATIN\n",
      "    CAPITAL LETTER C WITH CEDILLA” can be represented as a single\n",
      "    *precomposed character* at code position U+00C7, or as a sequence\n",
      "    of a *base character* at code position U+0043 (LATIN CAPITAL\n",
      "    LETTER C), followed by a *combining character* at code position\n",
      "    U+0327 (COMBINING CEDILLA).\n",
      "\n",
      "    The comparison operators on strings compare at the level of\n",
      "    Unicode code points. This may be counter-intuitive to humans.  For\n",
      "    example, \"\"\\u00C7\" == \"\\u0043\\u0327\"\" is \"False\", even though both\n",
      "    strings represent the same abstract character “LATIN CAPITAL\n",
      "    LETTER C WITH CEDILLA”.\n",
      "\n",
      "    To compare strings at the level of abstract characters (that is,\n",
      "    in a way intuitive to humans), use \"unicodedata.normalize()\".\n",
      "\n",
      "[4] Due to automatic garbage-collection, free lists, and the\n",
      "    dynamic nature of descriptors, you may notice seemingly unusual\n",
      "    behaviour in certain uses of the \"is\" operator, like those\n",
      "    involving comparisons between instance methods, or constants.\n",
      "    Check their documentation for more info.\n",
      "\n",
      "[5] The \"%\" operator is also used for string formatting; the same\n",
      "    precedence applies.\n",
      "\n",
      "[6] The power operator \"**\" binds less tightly than an arithmetic\n",
      "    or bitwise unary operator on its right, that is, \"2**-1\" is \"0.5\".\n",
      "\n",
      "Related help topics: lambda, or, and, not, in, is, BOOLEAN, COMPARISON,\n",
      "BITWISE, SHIFTING, BINARY, FORMATTING, POWER, UNARY, ATTRIBUTES,\n",
      "SUBSCRIPTS, SLICINGS, CALLS, TUPLES, LISTS, DICTIONARIES, FORMATTING\n",
      "\n"
     ]
    }
   ],
   "source": [
    "help()"
   ]
  },
  {
   "cell_type": "code",
   "execution_count": null,
   "metadata": {},
   "outputs": [],
   "source": []
  }
 ],
 "metadata": {
  "kernelspec": {
   "display_name": "Python 3",
   "language": "python",
   "name": "python3"
  },
  "language_info": {
   "codemirror_mode": {
    "name": "ipython",
    "version": 3
   },
   "file_extension": ".py",
   "mimetype": "text/x-python",
   "name": "python",
   "nbconvert_exporter": "python",
   "pygments_lexer": "ipython3",
   "version": "3.8.3"
  }
 },
 "nbformat": 4,
 "nbformat_minor": 4
}
